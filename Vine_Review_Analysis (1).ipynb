{
 "cells": [
  {
   "cell_type": "code",
   "execution_count": 1,
   "id": "9d0e86a8",
   "metadata": {},
   "outputs": [],
   "source": [
    "import pandas as pd"
   ]
  },
  {
   "cell_type": "code",
   "execution_count": 2,
   "id": "1a1f8e94",
   "metadata": {},
   "outputs": [],
   "source": [
    "df = pd.read_csv(\"vine_table.csv\")"
   ]
  },
  {
   "cell_type": "code",
   "execution_count": 3,
   "id": "146f46de",
   "metadata": {},
   "outputs": [
    {
     "data": {
      "text/html": [
       "<div>\n",
       "<style scoped>\n",
       "    .dataframe tbody tr th:only-of-type {\n",
       "        vertical-align: middle;\n",
       "    }\n",
       "\n",
       "    .dataframe tbody tr th {\n",
       "        vertical-align: top;\n",
       "    }\n",
       "\n",
       "    .dataframe thead th {\n",
       "        text-align: right;\n",
       "    }\n",
       "</style>\n",
       "<table border=\"1\" class=\"dataframe\">\n",
       "  <thead>\n",
       "    <tr style=\"text-align: right;\">\n",
       "      <th></th>\n",
       "      <th>review_id</th>\n",
       "      <th>star_rating</th>\n",
       "      <th>helpful_votes</th>\n",
       "      <th>total_votes</th>\n",
       "      <th>vine</th>\n",
       "      <th>verified_purchase</th>\n",
       "    </tr>\n",
       "  </thead>\n",
       "  <tbody>\n",
       "    <tr>\n",
       "      <th>0</th>\n",
       "      <td>R27ZP1F1CD0C3Y</td>\n",
       "      <td>5</td>\n",
       "      <td>0</td>\n",
       "      <td>0</td>\n",
       "      <td>N</td>\n",
       "      <td>Y</td>\n",
       "    </tr>\n",
       "    <tr>\n",
       "      <th>1</th>\n",
       "      <td>RJ7RSBCHUDNNE</td>\n",
       "      <td>5</td>\n",
       "      <td>0</td>\n",
       "      <td>0</td>\n",
       "      <td>N</td>\n",
       "      <td>Y</td>\n",
       "    </tr>\n",
       "    <tr>\n",
       "      <th>2</th>\n",
       "      <td>R1HVYBSKLQJI5S</td>\n",
       "      <td>5</td>\n",
       "      <td>0</td>\n",
       "      <td>0</td>\n",
       "      <td>N</td>\n",
       "      <td>Y</td>\n",
       "    </tr>\n",
       "    <tr>\n",
       "      <th>3</th>\n",
       "      <td>R2HAXF0IIYQBIR</td>\n",
       "      <td>1</td>\n",
       "      <td>0</td>\n",
       "      <td>0</td>\n",
       "      <td>N</td>\n",
       "      <td>Y</td>\n",
       "    </tr>\n",
       "    <tr>\n",
       "      <th>4</th>\n",
       "      <td>RNYLPX611NB7Q</td>\n",
       "      <td>5</td>\n",
       "      <td>0</td>\n",
       "      <td>0</td>\n",
       "      <td>N</td>\n",
       "      <td>Y</td>\n",
       "    </tr>\n",
       "  </tbody>\n",
       "</table>\n",
       "</div>"
      ],
      "text/plain": [
       "        review_id  star_rating  helpful_votes  total_votes vine  \\\n",
       "0  R27ZP1F1CD0C3Y            5              0            0    N   \n",
       "1   RJ7RSBCHUDNNE            5              0            0    N   \n",
       "2  R1HVYBSKLQJI5S            5              0            0    N   \n",
       "3  R2HAXF0IIYQBIR            1              0            0    N   \n",
       "4   RNYLPX611NB7Q            5              0            0    N   \n",
       "\n",
       "  verified_purchase  \n",
       "0                 Y  \n",
       "1                 Y  \n",
       "2                 Y  \n",
       "3                 Y  \n",
       "4                 Y  "
      ]
     },
     "execution_count": 3,
     "metadata": {},
     "output_type": "execute_result"
    }
   ],
   "source": [
    "df.head(5)"
   ]
  },
  {
   "cell_type": "code",
   "execution_count": 8,
   "id": "bf53b006",
   "metadata": {},
   "outputs": [],
   "source": [
    "#total_votes count is equal to or greater than 20 \n",
    "new_df = df[df['total_votes'] > 20]"
   ]
  },
  {
   "cell_type": "code",
   "execution_count": 18,
   "id": "a1be57a8",
   "metadata": {},
   "outputs": [
    {
     "data": {
      "text/html": [
       "<div>\n",
       "<style scoped>\n",
       "    .dataframe tbody tr th:only-of-type {\n",
       "        vertical-align: middle;\n",
       "    }\n",
       "\n",
       "    .dataframe tbody tr th {\n",
       "        vertical-align: top;\n",
       "    }\n",
       "\n",
       "    .dataframe thead th {\n",
       "        text-align: right;\n",
       "    }\n",
       "</style>\n",
       "<table border=\"1\" class=\"dataframe\">\n",
       "  <thead>\n",
       "    <tr style=\"text-align: right;\">\n",
       "      <th></th>\n",
       "      <th>review_id</th>\n",
       "      <th>star_rating</th>\n",
       "      <th>helpful_votes</th>\n",
       "      <th>total_votes</th>\n",
       "      <th>vine</th>\n",
       "      <th>verified_purchase</th>\n",
       "      <th>result</th>\n",
       "    </tr>\n",
       "  </thead>\n",
       "  <tbody>\n",
       "    <tr>\n",
       "      <th>685</th>\n",
       "      <td>R36PQ9D8L2AAOH</td>\n",
       "      <td>5</td>\n",
       "      <td>30</td>\n",
       "      <td>32</td>\n",
       "      <td>N</td>\n",
       "      <td>Y</td>\n",
       "      <td>True</td>\n",
       "    </tr>\n",
       "    <tr>\n",
       "      <th>1786</th>\n",
       "      <td>R23GHBE86II0SK</td>\n",
       "      <td>5</td>\n",
       "      <td>18</td>\n",
       "      <td>21</td>\n",
       "      <td>N</td>\n",
       "      <td>Y</td>\n",
       "      <td>True</td>\n",
       "    </tr>\n",
       "    <tr>\n",
       "      <th>2020</th>\n",
       "      <td>R18KVPY0TO33BM</td>\n",
       "      <td>5</td>\n",
       "      <td>241</td>\n",
       "      <td>248</td>\n",
       "      <td>N</td>\n",
       "      <td>Y</td>\n",
       "      <td>True</td>\n",
       "    </tr>\n",
       "    <tr>\n",
       "      <th>2429</th>\n",
       "      <td>R2ZB78BDM8BRCF</td>\n",
       "      <td>1</td>\n",
       "      <td>99</td>\n",
       "      <td>113</td>\n",
       "      <td>N</td>\n",
       "      <td>Y</td>\n",
       "      <td>True</td>\n",
       "    </tr>\n",
       "    <tr>\n",
       "      <th>6104</th>\n",
       "      <td>R10ORTN0I3G5B9</td>\n",
       "      <td>1</td>\n",
       "      <td>19</td>\n",
       "      <td>26</td>\n",
       "      <td>N</td>\n",
       "      <td>Y</td>\n",
       "      <td>True</td>\n",
       "    </tr>\n",
       "  </tbody>\n",
       "</table>\n",
       "</div>"
      ],
      "text/plain": [
       "           review_id  star_rating  helpful_votes  total_votes vine  \\\n",
       "685   R36PQ9D8L2AAOH            5             30           32    N   \n",
       "1786  R23GHBE86II0SK            5             18           21    N   \n",
       "2020  R18KVPY0TO33BM            5            241          248    N   \n",
       "2429  R2ZB78BDM8BRCF            1             99          113    N   \n",
       "6104  R10ORTN0I3G5B9            1             19           26    N   \n",
       "\n",
       "     verified_purchase  result  \n",
       "685                  Y    True  \n",
       "1786                 Y    True  \n",
       "2020                 Y    True  \n",
       "2429                 Y    True  \n",
       "6104                 Y    True  "
      ]
     },
     "execution_count": 18,
     "metadata": {},
     "output_type": "execute_result"
    }
   ],
   "source": [
    "new_df.head(5)"
   ]
  },
  {
   "cell_type": "code",
   "execution_count": 19,
   "id": "f597e7f5",
   "metadata": {},
   "outputs": [
    {
     "data": {
      "text/html": [
       "<div>\n",
       "<style scoped>\n",
       "    .dataframe tbody tr th:only-of-type {\n",
       "        vertical-align: middle;\n",
       "    }\n",
       "\n",
       "    .dataframe tbody tr th {\n",
       "        vertical-align: top;\n",
       "    }\n",
       "\n",
       "    .dataframe thead th {\n",
       "        text-align: right;\n",
       "    }\n",
       "</style>\n",
       "<table border=\"1\" class=\"dataframe\">\n",
       "  <thead>\n",
       "    <tr style=\"text-align: right;\">\n",
       "      <th></th>\n",
       "      <th>review_id</th>\n",
       "      <th>star_rating</th>\n",
       "      <th>helpful_votes</th>\n",
       "      <th>total_votes</th>\n",
       "      <th>vine</th>\n",
       "      <th>verified_purchase</th>\n",
       "      <th>result</th>\n",
       "    </tr>\n",
       "  </thead>\n",
       "  <tbody>\n",
       "    <tr>\n",
       "      <th>685</th>\n",
       "      <td>R36PQ9D8L2AAOH</td>\n",
       "      <td>5</td>\n",
       "      <td>30</td>\n",
       "      <td>32</td>\n",
       "      <td>N</td>\n",
       "      <td>Y</td>\n",
       "      <td>True</td>\n",
       "    </tr>\n",
       "    <tr>\n",
       "      <th>1786</th>\n",
       "      <td>R23GHBE86II0SK</td>\n",
       "      <td>5</td>\n",
       "      <td>18</td>\n",
       "      <td>21</td>\n",
       "      <td>N</td>\n",
       "      <td>Y</td>\n",
       "      <td>True</td>\n",
       "    </tr>\n",
       "    <tr>\n",
       "      <th>2020</th>\n",
       "      <td>R18KVPY0TO33BM</td>\n",
       "      <td>5</td>\n",
       "      <td>241</td>\n",
       "      <td>248</td>\n",
       "      <td>N</td>\n",
       "      <td>Y</td>\n",
       "      <td>True</td>\n",
       "    </tr>\n",
       "    <tr>\n",
       "      <th>2429</th>\n",
       "      <td>R2ZB78BDM8BRCF</td>\n",
       "      <td>1</td>\n",
       "      <td>99</td>\n",
       "      <td>113</td>\n",
       "      <td>N</td>\n",
       "      <td>Y</td>\n",
       "      <td>True</td>\n",
       "    </tr>\n",
       "    <tr>\n",
       "      <th>6104</th>\n",
       "      <td>R10ORTN0I3G5B9</td>\n",
       "      <td>1</td>\n",
       "      <td>19</td>\n",
       "      <td>26</td>\n",
       "      <td>N</td>\n",
       "      <td>Y</td>\n",
       "      <td>True</td>\n",
       "    </tr>\n",
       "  </tbody>\n",
       "</table>\n",
       "</div>"
      ],
      "text/plain": [
       "           review_id  star_rating  helpful_votes  total_votes vine  \\\n",
       "685   R36PQ9D8L2AAOH            5             30           32    N   \n",
       "1786  R23GHBE86II0SK            5             18           21    N   \n",
       "2020  R18KVPY0TO33BM            5            241          248    N   \n",
       "2429  R2ZB78BDM8BRCF            1             99          113    N   \n",
       "6104  R10ORTN0I3G5B9            1             19           26    N   \n",
       "\n",
       "     verified_purchase  result  \n",
       "685                  Y    True  \n",
       "1786                 Y    True  \n",
       "2020                 Y    True  \n",
       "2429                 Y    True  \n",
       "6104                 Y    True  "
      ]
     },
     "execution_count": 19,
     "metadata": {},
     "output_type": "execute_result"
    }
   ],
   "source": [
    "new_result = new_df.loc[(new_df.helpful_votes)/(new_df.total_votes) > 0.5]\n",
    "\n",
    "new_result.head(5)"
   ]
  },
  {
   "cell_type": "code",
   "execution_count": 22,
   "id": "3b518d1c",
   "metadata": {},
   "outputs": [
    {
     "data": {
      "text/html": [
       "<div>\n",
       "<style scoped>\n",
       "    .dataframe tbody tr th:only-of-type {\n",
       "        vertical-align: middle;\n",
       "    }\n",
       "\n",
       "    .dataframe tbody tr th {\n",
       "        vertical-align: top;\n",
       "    }\n",
       "\n",
       "    .dataframe thead th {\n",
       "        text-align: right;\n",
       "    }\n",
       "</style>\n",
       "<table border=\"1\" class=\"dataframe\">\n",
       "  <thead>\n",
       "    <tr style=\"text-align: right;\">\n",
       "      <th></th>\n",
       "      <th>review_id</th>\n",
       "      <th>star_rating</th>\n",
       "      <th>helpful_votes</th>\n",
       "      <th>total_votes</th>\n",
       "      <th>vine</th>\n",
       "      <th>verified_purchase</th>\n",
       "      <th>result</th>\n",
       "    </tr>\n",
       "  </thead>\n",
       "  <tbody>\n",
       "  </tbody>\n",
       "</table>\n",
       "</div>"
      ],
      "text/plain": [
       "Empty DataFrame\n",
       "Columns: [review_id, star_rating, helpful_votes, total_votes, vine, verified_purchase, result]\n",
       "Index: []"
      ]
     },
     "execution_count": 22,
     "metadata": {},
     "output_type": "execute_result"
    }
   ],
   "source": [
    "vine_paid = new_result[new_result['vine'] == 'Y']\n",
    "vine_paid.head(5)"
   ]
  },
  {
   "cell_type": "code",
   "execution_count": 25,
   "id": "3dd8f73e",
   "metadata": {},
   "outputs": [
    {
     "data": {
      "text/html": [
       "<div>\n",
       "<style scoped>\n",
       "    .dataframe tbody tr th:only-of-type {\n",
       "        vertical-align: middle;\n",
       "    }\n",
       "\n",
       "    .dataframe tbody tr th {\n",
       "        vertical-align: top;\n",
       "    }\n",
       "\n",
       "    .dataframe thead th {\n",
       "        text-align: right;\n",
       "    }\n",
       "</style>\n",
       "<table border=\"1\" class=\"dataframe\">\n",
       "  <thead>\n",
       "    <tr style=\"text-align: right;\">\n",
       "      <th></th>\n",
       "      <th>review_id</th>\n",
       "      <th>star_rating</th>\n",
       "      <th>helpful_votes</th>\n",
       "      <th>total_votes</th>\n",
       "      <th>vine</th>\n",
       "      <th>verified_purchase</th>\n",
       "      <th>result</th>\n",
       "    </tr>\n",
       "  </thead>\n",
       "  <tbody>\n",
       "    <tr>\n",
       "      <th>685</th>\n",
       "      <td>R36PQ9D8L2AAOH</td>\n",
       "      <td>5</td>\n",
       "      <td>30</td>\n",
       "      <td>32</td>\n",
       "      <td>N</td>\n",
       "      <td>Y</td>\n",
       "      <td>True</td>\n",
       "    </tr>\n",
       "    <tr>\n",
       "      <th>1786</th>\n",
       "      <td>R23GHBE86II0SK</td>\n",
       "      <td>5</td>\n",
       "      <td>18</td>\n",
       "      <td>21</td>\n",
       "      <td>N</td>\n",
       "      <td>Y</td>\n",
       "      <td>True</td>\n",
       "    </tr>\n",
       "    <tr>\n",
       "      <th>2020</th>\n",
       "      <td>R18KVPY0TO33BM</td>\n",
       "      <td>5</td>\n",
       "      <td>241</td>\n",
       "      <td>248</td>\n",
       "      <td>N</td>\n",
       "      <td>Y</td>\n",
       "      <td>True</td>\n",
       "    </tr>\n",
       "    <tr>\n",
       "      <th>2429</th>\n",
       "      <td>R2ZB78BDM8BRCF</td>\n",
       "      <td>1</td>\n",
       "      <td>99</td>\n",
       "      <td>113</td>\n",
       "      <td>N</td>\n",
       "      <td>Y</td>\n",
       "      <td>True</td>\n",
       "    </tr>\n",
       "    <tr>\n",
       "      <th>6104</th>\n",
       "      <td>R10ORTN0I3G5B9</td>\n",
       "      <td>1</td>\n",
       "      <td>19</td>\n",
       "      <td>26</td>\n",
       "      <td>N</td>\n",
       "      <td>Y</td>\n",
       "      <td>True</td>\n",
       "    </tr>\n",
       "  </tbody>\n",
       "</table>\n",
       "</div>"
      ],
      "text/plain": [
       "           review_id  star_rating  helpful_votes  total_votes vine  \\\n",
       "685   R36PQ9D8L2AAOH            5             30           32    N   \n",
       "1786  R23GHBE86II0SK            5             18           21    N   \n",
       "2020  R18KVPY0TO33BM            5            241          248    N   \n",
       "2429  R2ZB78BDM8BRCF            1             99          113    N   \n",
       "6104  R10ORTN0I3G5B9            1             19           26    N   \n",
       "\n",
       "     verified_purchase  result  \n",
       "685                  Y    True  \n",
       "1786                 Y    True  \n",
       "2020                 Y    True  \n",
       "2429                 Y    True  \n",
       "6104                 Y    True  "
      ]
     },
     "execution_count": 25,
     "metadata": {},
     "output_type": "execute_result"
    }
   ],
   "source": [
    "vine_unpaid = new_result[new_result['vine'] == 'N']\n",
    "vine_unpaid.head(5)"
   ]
  },
  {
   "cell_type": "code",
   "execution_count": 52,
   "id": "335bde37",
   "metadata": {},
   "outputs": [
    {
     "data": {
      "text/plain": [
       "340"
      ]
     },
     "execution_count": 52,
     "metadata": {},
     "output_type": "execute_result"
    }
   ],
   "source": [
    "#determine the total number of reviews\n",
    "count_vine =len(vine_unpaid)\n",
    "count_vine"
   ]
  },
  {
   "cell_type": "code",
   "execution_count": 37,
   "id": "24633569",
   "metadata": {},
   "outputs": [
    {
     "data": {
      "text/html": [
       "<div>\n",
       "<style scoped>\n",
       "    .dataframe tbody tr th:only-of-type {\n",
       "        vertical-align: middle;\n",
       "    }\n",
       "\n",
       "    .dataframe tbody tr th {\n",
       "        vertical-align: top;\n",
       "    }\n",
       "\n",
       "    .dataframe thead th {\n",
       "        text-align: right;\n",
       "    }\n",
       "</style>\n",
       "<table border=\"1\" class=\"dataframe\">\n",
       "  <thead>\n",
       "    <tr style=\"text-align: right;\">\n",
       "      <th></th>\n",
       "      <th>review_id</th>\n",
       "      <th>star_rating</th>\n",
       "      <th>helpful_votes</th>\n",
       "      <th>total_votes</th>\n",
       "      <th>vine</th>\n",
       "      <th>verified_purchase</th>\n",
       "      <th>result</th>\n",
       "    </tr>\n",
       "  </thead>\n",
       "  <tbody>\n",
       "    <tr>\n",
       "      <th>685</th>\n",
       "      <td>R36PQ9D8L2AAOH</td>\n",
       "      <td>5</td>\n",
       "      <td>30</td>\n",
       "      <td>32</td>\n",
       "      <td>N</td>\n",
       "      <td>Y</td>\n",
       "      <td>True</td>\n",
       "    </tr>\n",
       "    <tr>\n",
       "      <th>1786</th>\n",
       "      <td>R23GHBE86II0SK</td>\n",
       "      <td>5</td>\n",
       "      <td>18</td>\n",
       "      <td>21</td>\n",
       "      <td>N</td>\n",
       "      <td>Y</td>\n",
       "      <td>True</td>\n",
       "    </tr>\n",
       "    <tr>\n",
       "      <th>2020</th>\n",
       "      <td>R18KVPY0TO33BM</td>\n",
       "      <td>5</td>\n",
       "      <td>241</td>\n",
       "      <td>248</td>\n",
       "      <td>N</td>\n",
       "      <td>Y</td>\n",
       "      <td>True</td>\n",
       "    </tr>\n",
       "    <tr>\n",
       "      <th>7198</th>\n",
       "      <td>R1SHEELXA1IXQP</td>\n",
       "      <td>5</td>\n",
       "      <td>45</td>\n",
       "      <td>57</td>\n",
       "      <td>N</td>\n",
       "      <td>Y</td>\n",
       "      <td>True</td>\n",
       "    </tr>\n",
       "    <tr>\n",
       "      <th>7341</th>\n",
       "      <td>R1IQJ99JOPJOE4</td>\n",
       "      <td>5</td>\n",
       "      <td>73</td>\n",
       "      <td>94</td>\n",
       "      <td>N</td>\n",
       "      <td>N</td>\n",
       "      <td>True</td>\n",
       "    </tr>\n",
       "  </tbody>\n",
       "</table>\n",
       "</div>"
      ],
      "text/plain": [
       "           review_id  star_rating  helpful_votes  total_votes vine  \\\n",
       "685   R36PQ9D8L2AAOH            5             30           32    N   \n",
       "1786  R23GHBE86II0SK            5             18           21    N   \n",
       "2020  R18KVPY0TO33BM            5            241          248    N   \n",
       "7198  R1SHEELXA1IXQP            5             45           57    N   \n",
       "7341  R1IQJ99JOPJOE4            5             73           94    N   \n",
       "\n",
       "     verified_purchase  result  \n",
       "685                  Y    True  \n",
       "1786                 Y    True  \n",
       "2020                 Y    True  \n",
       "7198                 Y    True  \n",
       "7341                 N    True  "
      ]
     },
     "execution_count": 37,
     "metadata": {},
     "output_type": "execute_result"
    }
   ],
   "source": [
    "#determine the number of 5 star reviews\n",
    "vine_unpaid_star = vine_unpaid[vine_unpaid['star_rating'] == 5]\n",
    "vine_unpaid_star.head(5)"
   ]
  },
  {
   "cell_type": "code",
   "execution_count": 53,
   "id": "c7a1f5db",
   "metadata": {},
   "outputs": [
    {
     "data": {
      "text/plain": [
       "87"
      ]
     },
     "execution_count": 53,
     "metadata": {},
     "output_type": "execute_result"
    }
   ],
   "source": [
    "unpaid_count = len(vine_unpaid_star)\n",
    "unpaid_count"
   ]
  },
  {
   "cell_type": "code",
   "execution_count": 42,
   "id": "5d6978e9",
   "metadata": {},
   "outputs": [],
   "source": [
    "#the percentage of 5 star reviews that are unpaid is 87/340 * 100 which is 25.6%"
   ]
  },
  {
   "cell_type": "code",
   "execution_count": null,
   "id": "66fecb17",
   "metadata": {},
   "outputs": [],
   "source": [
    "#Analysis for the ReadMe below"
   ]
  },
  {
   "cell_type": "code",
   "execution_count": 45,
   "id": "7b4ccb84",
   "metadata": {},
   "outputs": [
    {
     "data": {
      "text/plain": [
       "373"
      ]
     },
     "execution_count": 45,
     "metadata": {},
     "output_type": "execute_result"
    }
   ],
   "source": [
    "#total \n",
    "review_count = len(new_df)\n",
    "review_count"
   ]
  },
  {
   "cell_type": "code",
   "execution_count": 46,
   "id": "3375a830",
   "metadata": {},
   "outputs": [
    {
     "data": {
      "text/plain": [
       "149086"
      ]
     },
     "execution_count": 46,
     "metadata": {},
     "output_type": "execute_result"
    }
   ],
   "source": [
    "review_unpaid = df[df['vine'] == 'N']\n",
    "len(review_unpaid)"
   ]
  },
  {
   "cell_type": "code",
   "execution_count": 58,
   "id": "d52484cc",
   "metadata": {},
   "outputs": [
    {
     "data": {
      "text/plain": [
       "25.588235294117645"
      ]
     },
     "execution_count": 58,
     "metadata": {},
     "output_type": "execute_result"
    }
   ],
   "source": [
    "percentage_unpaid = (unpaid_count/count_vine) * 100\n",
    "percentage_unpaid"
   ]
  },
  {
   "cell_type": "code",
   "execution_count": null,
   "id": "5a6f082a",
   "metadata": {},
   "outputs": [],
   "source": []
  }
 ],
 "metadata": {
  "kernelspec": {
   "display_name": "PythonData",
   "language": "python",
   "name": "pythondata"
  },
  "language_info": {
   "codemirror_mode": {
    "name": "ipython",
    "version": 3
   },
   "file_extension": ".py",
   "mimetype": "text/x-python",
   "name": "python",
   "nbconvert_exporter": "python",
   "pygments_lexer": "ipython3",
   "version": "3.9.12"
  }
 },
 "nbformat": 4,
 "nbformat_minor": 5
}
